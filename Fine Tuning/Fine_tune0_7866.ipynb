{
 "cells": [
  {
   "cell_type": "code",
   "execution_count": 1,
   "metadata": {},
   "outputs": [
    {
     "name": "stderr",
     "output_type": "stream",
     "text": [
      "Using TensorFlow backend.\n"
     ]
    }
   ],
   "source": [
    "import keras\n",
    "import os\n",
    "\n",
    "#from params import get_params\n",
    "from sklearn import preprocessing\n",
    "import sklearn.preprocessing\n",
    "import numpy as np\n",
    "\n",
    "import matplotlib.pyplot as plt\n",
    "\n",
    "from keras.models import Model, load_model\n",
    "from keras.preprocessing import image\n",
    "from keras.applications.vgg16 import VGG16\n",
    "from keras.applications.vgg16 import preprocess_input\n",
    "\n",
    "from PIL import Image, ImageOps\n",
    "\n",
    "import pickle"
   ]
  },
  {
   "cell_type": "code",
   "execution_count": 2,
   "metadata": {},
   "outputs": [
    {
     "name": "stdout",
     "output_type": "stream",
     "text": [
      "_________________________________________________________________\n",
      "Layer (type)                 Output Shape              Param #   \n",
      "=================================================================\n",
      "input_1 (InputLayer)         (None, 224, 224, 3)       0         \n",
      "_________________________________________________________________\n",
      "block1_conv1 (Conv2D)        (None, 224, 224, 64)      1792      \n",
      "_________________________________________________________________\n",
      "block1_conv2 (Conv2D)        (None, 224, 224, 64)      36928     \n",
      "_________________________________________________________________\n",
      "block1_pool (MaxPooling2D)   (None, 112, 112, 64)      0         \n",
      "_________________________________________________________________\n",
      "block2_conv1 (Conv2D)        (None, 112, 112, 128)     73856     \n",
      "_________________________________________________________________\n",
      "block2_conv2 (Conv2D)        (None, 112, 112, 128)     147584    \n",
      "_________________________________________________________________\n",
      "block2_pool (MaxPooling2D)   (None, 56, 56, 128)       0         \n",
      "_________________________________________________________________\n",
      "block3_conv1 (Conv2D)        (None, 56, 56, 256)       295168    \n",
      "_________________________________________________________________\n",
      "block3_conv2 (Conv2D)        (None, 56, 56, 256)       590080    \n",
      "_________________________________________________________________\n",
      "block3_conv3 (Conv2D)        (None, 56, 56, 256)       590080    \n",
      "_________________________________________________________________\n",
      "block3_pool (MaxPooling2D)   (None, 28, 28, 256)       0         \n",
      "_________________________________________________________________\n",
      "block4_conv1 (Conv2D)        (None, 28, 28, 512)       1180160   \n",
      "_________________________________________________________________\n",
      "block4_conv2 (Conv2D)        (None, 28, 28, 512)       2359808   \n",
      "_________________________________________________________________\n",
      "block4_conv3 (Conv2D)        (None, 28, 28, 512)       2359808   \n",
      "_________________________________________________________________\n",
      "block4_pool (MaxPooling2D)   (None, 14, 14, 512)       0         \n",
      "_________________________________________________________________\n",
      "block5_conv1 (Conv2D)        (None, 14, 14, 512)       2359808   \n",
      "_________________________________________________________________\n",
      "block5_conv2 (Conv2D)        (None, 14, 14, 512)       2359808   \n",
      "_________________________________________________________________\n",
      "block5_conv3 (Conv2D)        (None, 14, 14, 512)       2359808   \n",
      "_________________________________________________________________\n",
      "block5_pool (MaxPooling2D)   (None, 7, 7, 512)         0         \n",
      "_________________________________________________________________\n",
      "flatten (Flatten)            (None, 25088)             0         \n",
      "_________________________________________________________________\n",
      "fc1 (Dense)                  (None, 4096)              102764544 \n",
      "_________________________________________________________________\n",
      "fc2 (Dense)                  (None, 4096)              16781312  \n",
      "_________________________________________________________________\n",
      "predictions (Dense)          (None, 1000)              4097000   \n",
      "=================================================================\n",
      "Total params: 138,357,544\n",
      "Trainable params: 138,357,544\n",
      "Non-trainable params: 0\n",
      "_________________________________________________________________\n"
     ]
    }
   ],
   "source": [
    "conv_base = VGG16(weights='imagenet',\n",
    "                  include_top=True,\n",
    "                  input_shape=(224, 224, 3))\n",
    "\n",
    "conv_base.summary()"
   ]
  },
  {
   "cell_type": "code",
   "execution_count": 3,
   "metadata": {},
   "outputs": [],
   "source": [
    "seed = 13\n",
    "np.random.seed(seed)"
   ]
  },
  {
   "cell_type": "code",
   "execution_count": 5,
   "metadata": {},
   "outputs": [],
   "source": [
    "from keras import models\n",
    "from keras import layers \n",
    "\n",
    "# Remove top layer and connect custom dense layer\n",
    "fc2 = conv_base.get_layer('fc2').output\n",
    "\n",
    "Drop1 = layers.Dropout(0.8, seed = seed)(fc2)\n",
    "Dense1 = layers.Dense(13, activation='sigmoid',name='mypredictions')(Drop1)\n",
    "\n",
    "model = Model(inputs=conv_base.input, outputs = Dense1)"
   ]
  },
  {
   "cell_type": "code",
   "execution_count": 6,
   "metadata": {},
   "outputs": [],
   "source": [
    "train_dir = \"classifier/training\"\n",
    "validation_dir = \"classifier/validation\"\n",
    "batch_size=20"
   ]
  },
  {
   "cell_type": "code",
   "execution_count": 8,
   "metadata": {},
   "outputs": [
    {
     "name": "stdout",
     "output_type": "stream",
     "text": [
      "Found 1911 images belonging to 13 classes.\n",
      "Found 477 images belonging to 13 classes.\n"
     ]
    }
   ],
   "source": [
    "from keras.preprocessing.image import ImageDataGenerator\n",
    "\n",
    "train_datagen = ImageDataGenerator(\n",
    "      #rescale=1./255,\n",
    "      width_shift_range=0.1,\n",
    "      height_shift_range=0.1,\n",
    "      shear_range=0.1,\n",
    "      rotation_range=8,\n",
    "      brightness_range=(0.2,1.5),\n",
    "      fill_mode='nearest'\n",
    "      )\n",
    "\n",
    "# Note that the validation data should not be augmented!\n",
    "test_datagen = ImageDataGenerator()#rescale=1./255\n",
    "\n",
    "train_generator = train_datagen.flow_from_directory(\n",
    "        # This is the target directory\n",
    "        train_dir,\n",
    "        # All images will be resized to 150x150\n",
    "        target_size=(224, 224),\n",
    "        batch_size=batch_size,\n",
    "        # Since we use binary_crossentropy loss, we need binary labels\n",
    "        class_mode='categorical')\n",
    "\n",
    "validation_generator = test_datagen.flow_from_directory(\n",
    "        validation_dir,\n",
    "        target_size=(224, 224),\n",
    "        batch_size=batch_size,\n",
    "        class_mode='categorical')"
   ]
  },
  {
   "cell_type": "code",
   "execution_count": 9,
   "metadata": {},
   "outputs": [
    {
     "name": "stdout",
     "output_type": "stream",
     "text": [
      "{'mercat_independencia': 9, 'societat_general': 11, 'desconegut': 3, 'farmacia_albinyana': 7, 'ajuntament': 0, 'mnactec': 10, 'escola_enginyeria': 5, 'masia_freixa': 8, 'castell_cartoixa': 1, 'dona_treballadora': 4, 'catedral': 2, 'teatre_principal': 12, 'estacio_nord': 6}\n"
     ]
    }
   ],
   "source": [
    "print(train_generator.class_indices)"
   ]
  },
  {
   "cell_type": "code",
   "execution_count": 10,
   "metadata": {},
   "outputs": [],
   "source": [
    "conv_base.trainable = True\n",
    "\n",
    "#set_trainable = False\n",
    "#for layer in conv_base.layers:\n",
    "#    if layer.name == 'fc2':\n",
    "#        set_trainable = True\n",
    "#    if set_trainable:\n",
    "#        layer.trainable = True\n",
    "#    else:\n",
    "#        layer.trainable = False"
   ]
  },
  {
   "cell_type": "code",
   "execution_count": 11,
   "metadata": {},
   "outputs": [],
   "source": [
    "from keras import optimizers\n",
    "\n",
    "model.compile(loss='categorical_crossentropy',\n",
    "              optimizer=optimizers.Adam(lr=1e-5),\n",
    "              metrics=['acc'])"
   ]
  },
  {
   "cell_type": "code",
   "execution_count": 16,
   "metadata": {},
   "outputs": [
    {
     "data": {
      "text/plain": [
       "False"
      ]
     },
     "execution_count": 16,
     "metadata": {},
     "output_type": "execute_result"
    }
   ],
   "source": [
    "model.layers[0].trainable"
   ]
  },
  {
   "cell_type": "code",
   "execution_count": 17,
   "metadata": {},
   "outputs": [
    {
     "name": "stdout",
     "output_type": "stream",
     "text": [
      "_________________________________________________________________\n",
      "Layer (type)                 Output Shape              Param #   \n",
      "=================================================================\n",
      "input_1 (InputLayer)         (None, 224, 224, 3)       0         \n",
      "_________________________________________________________________\n",
      "block1_conv1 (Conv2D)        (None, 224, 224, 64)      1792      \n",
      "_________________________________________________________________\n",
      "block1_conv2 (Conv2D)        (None, 224, 224, 64)      36928     \n",
      "_________________________________________________________________\n",
      "block1_pool (MaxPooling2D)   (None, 112, 112, 64)      0         \n",
      "_________________________________________________________________\n",
      "block2_conv1 (Conv2D)        (None, 112, 112, 128)     73856     \n",
      "_________________________________________________________________\n",
      "block2_conv2 (Conv2D)        (None, 112, 112, 128)     147584    \n",
      "_________________________________________________________________\n",
      "block2_pool (MaxPooling2D)   (None, 56, 56, 128)       0         \n",
      "_________________________________________________________________\n",
      "block3_conv1 (Conv2D)        (None, 56, 56, 256)       295168    \n",
      "_________________________________________________________________\n",
      "block3_conv2 (Conv2D)        (None, 56, 56, 256)       590080    \n",
      "_________________________________________________________________\n",
      "block3_conv3 (Conv2D)        (None, 56, 56, 256)       590080    \n",
      "_________________________________________________________________\n",
      "block3_pool (MaxPooling2D)   (None, 28, 28, 256)       0         \n",
      "_________________________________________________________________\n",
      "block4_conv1 (Conv2D)        (None, 28, 28, 512)       1180160   \n",
      "_________________________________________________________________\n",
      "block4_conv2 (Conv2D)        (None, 28, 28, 512)       2359808   \n",
      "_________________________________________________________________\n",
      "block4_conv3 (Conv2D)        (None, 28, 28, 512)       2359808   \n",
      "_________________________________________________________________\n",
      "block4_pool (MaxPooling2D)   (None, 14, 14, 512)       0         \n",
      "_________________________________________________________________\n",
      "block5_conv1 (Conv2D)        (None, 14, 14, 512)       2359808   \n",
      "_________________________________________________________________\n",
      "block5_conv2 (Conv2D)        (None, 14, 14, 512)       2359808   \n",
      "_________________________________________________________________\n",
      "block5_conv3 (Conv2D)        (None, 14, 14, 512)       2359808   \n",
      "_________________________________________________________________\n",
      "block5_pool (MaxPooling2D)   (None, 7, 7, 512)         0         \n",
      "_________________________________________________________________\n",
      "flatten (Flatten)            (None, 25088)             0         \n",
      "_________________________________________________________________\n",
      "fc1 (Dense)                  (None, 4096)              102764544 \n",
      "_________________________________________________________________\n",
      "fc2 (Dense)                  (None, 4096)              16781312  \n",
      "_________________________________________________________________\n",
      "dropout_2 (Dropout)          (None, 4096)              0         \n",
      "_________________________________________________________________\n",
      "mypredictions (Dense)        (None, 13)                53261     \n",
      "=================================================================\n",
      "Total params: 134,313,805\n",
      "Trainable params: 134,313,805\n",
      "Non-trainable params: 0\n",
      "_________________________________________________________________\n"
     ]
    }
   ],
   "source": [
    "model.summary()"
   ]
  },
  {
   "cell_type": "code",
   "execution_count": 20,
   "metadata": {},
   "outputs": [],
   "source": [
    "filepath ='Model/Prueba/Test_12.h5'"
   ]
  },
  {
   "cell_type": "code",
   "execution_count": 21,
   "metadata": {},
   "outputs": [],
   "source": [
    "checkpoint = keras.callbacks.ModelCheckpoint(filepath, monitor='val_acc', verbose=1, save_best_only=True,\n",
    "                                             save_weights_only=False, mode='auto', period=1)"
   ]
  },
  {
   "cell_type": "code",
   "execution_count": 22,
   "metadata": {},
   "outputs": [],
   "source": [
    "callbacks_list = [checkpoint]"
   ]
  },
  {
   "cell_type": "code",
   "execution_count": 23,
   "metadata": {},
   "outputs": [
    {
     "name": "stdout",
     "output_type": "stream",
     "text": [
      "Epoch 1/20\n",
      "95/95 [==============================] - 117s 1s/step - loss: 2.4921 - acc: 0.2074 - val_loss: 1.9713 - val_acc: 0.4217\n",
      "\n",
      "Epoch 00001: val_acc improved from -inf to 0.42174, saving model to Model/Prueba/Test_12.h5\n",
      "Epoch 2/20\n",
      "95/95 [==============================] - 84s 889ms/step - loss: 1.8520 - acc: 0.4023 - val_loss: 1.1326 - val_acc: 0.5470\n",
      "\n",
      "Epoch 00002: val_acc improved from 0.42174 to 0.54705, saving model to Model/Prueba/Test_12.h5\n",
      "Epoch 3/20\n",
      "95/95 [==============================] - 80s 839ms/step - loss: 1.2018 - acc: 0.6267 - val_loss: 0.7376 - val_acc: 0.8053\n",
      "\n",
      "Epoch 00003: val_acc improved from 0.54705 to 0.80525, saving model to Model/Prueba/Test_12.h5\n",
      "Epoch 4/20\n",
      "95/95 [==============================] - 80s 839ms/step - loss: 0.7989 - acc: 0.7584 - val_loss: 0.5224 - val_acc: 0.8534\n",
      "\n",
      "Epoch 00004: val_acc improved from 0.80525 to 0.85339, saving model to Model/Prueba/Test_12.h5\n",
      "Epoch 5/20\n",
      "95/95 [==============================] - 80s 838ms/step - loss: 0.5922 - acc: 0.8366 - val_loss: 0.4998 - val_acc: 0.8796\n",
      "\n",
      "Epoch 00005: val_acc improved from 0.85339 to 0.87965, saving model to Model/Prueba/Test_12.h5\n",
      "Epoch 6/20\n",
      "95/95 [==============================] - 80s 839ms/step - loss: 0.4150 - acc: 0.8807 - val_loss: 0.3859 - val_acc: 0.9059\n",
      "\n",
      "Epoch 00006: val_acc improved from 0.87965 to 0.90591, saving model to Model/Prueba/Test_12.h5\n",
      "Epoch 7/20\n",
      "95/95 [==============================] - 80s 839ms/step - loss: 0.3031 - acc: 0.9158 - val_loss: 0.4144 - val_acc: 0.9081\n",
      "\n",
      "Epoch 00007: val_acc improved from 0.90591 to 0.90810, saving model to Model/Prueba/Test_12.h5\n",
      "Epoch 8/20\n",
      "95/95 [==============================] - 80s 837ms/step - loss: 0.2336 - acc: 0.9384 - val_loss: 0.3158 - val_acc: 0.9212\n",
      "\n",
      "Epoch 00008: val_acc improved from 0.90810 to 0.92123, saving model to Model/Prueba/Test_12.h5\n",
      "Epoch 9/20\n",
      "95/95 [==============================] - 80s 839ms/step - loss: 0.1742 - acc: 0.9542 - val_loss: 0.4154 - val_acc: 0.8862\n",
      "\n",
      "Epoch 00009: val_acc did not improve from 0.92123\n",
      "Epoch 10/20\n",
      "95/95 [==============================] - 80s 838ms/step - loss: 0.1433 - acc: 0.9626 - val_loss: 0.3799 - val_acc: 0.9234\n",
      "\n",
      "Epoch 00010: val_acc improved from 0.92123 to 0.92341, saving model to Model/Prueba/Test_12.h5\n",
      "Epoch 11/20\n",
      "95/95 [==============================] - 80s 837ms/step - loss: 0.0899 - acc: 0.9726 - val_loss: 0.4554 - val_acc: 0.9147\n",
      "\n",
      "Epoch 00011: val_acc did not improve from 0.92341\n",
      "Epoch 12/20\n",
      "95/95 [==============================] - 79s 836ms/step - loss: 0.1191 - acc: 0.9701 - val_loss: 0.2940 - val_acc: 0.9453\n",
      "\n",
      "Epoch 00012: val_acc improved from 0.92341 to 0.94530, saving model to Model/Prueba/Test_12.h5\n",
      "Epoch 13/20\n",
      "95/95 [==============================] - 80s 837ms/step - loss: 0.0831 - acc: 0.9775 - val_loss: 0.4894 - val_acc: 0.9015\n",
      "\n",
      "Epoch 00013: val_acc did not improve from 0.94530\n",
      "Epoch 14/20\n",
      "95/95 [==============================] - 79s 837ms/step - loss: 0.0751 - acc: 0.9800 - val_loss: 0.3340 - val_acc: 0.9322\n",
      "\n",
      "Epoch 00014: val_acc did not improve from 0.94530\n",
      "Epoch 15/20\n",
      "95/95 [==============================] - 79s 835ms/step - loss: 0.0606 - acc: 0.9868 - val_loss: 0.6941 - val_acc: 0.9103\n",
      "\n",
      "Epoch 00015: val_acc did not improve from 0.94530\n",
      "Epoch 16/20\n",
      "95/95 [==============================] - 79s 836ms/step - loss: 0.0621 - acc: 0.9821 - val_loss: 0.3903 - val_acc: 0.9387\n",
      "\n",
      "Epoch 00016: val_acc did not improve from 0.94530\n",
      "Epoch 17/20\n",
      "95/95 [==============================] - 79s 836ms/step - loss: 0.0387 - acc: 0.9906 - val_loss: 0.4052 - val_acc: 0.9212\n",
      "\n",
      "Epoch 00017: val_acc did not improve from 0.94530\n",
      "Epoch 18/20\n",
      "95/95 [==============================] - 79s 835ms/step - loss: 0.0359 - acc: 0.9911 - val_loss: 0.5480 - val_acc: 0.9256\n",
      "\n",
      "Epoch 00018: val_acc did not improve from 0.94530\n",
      "Epoch 19/20\n",
      "95/95 [==============================] - 79s 834ms/step - loss: 0.0374 - acc: 0.9916 - val_loss: 0.3589 - val_acc: 0.9431\n",
      "\n",
      "Epoch 00019: val_acc did not improve from 0.94530\n",
      "Epoch 20/20\n",
      "95/95 [==============================] - 79s 833ms/step - loss: 0.0264 - acc: 0.9938 - val_loss: 0.5644 - val_acc: 0.9278\n",
      "\n",
      "Epoch 00020: val_acc did not improve from 0.94530\n"
     ]
    }
   ],
   "source": [
    "history = model.fit_generator(\n",
    "      train_generator,\n",
    "      steps_per_epoch= 1911 // batch_size, #images from train = 2150\n",
    "      epochs=20,\n",
    "      validation_data=validation_generator,\n",
    "      callbacks = callbacks_list,\n",
    "      validation_steps= 477 // batch_size) #images from validation = 477"
   ]
  },
  {
   "cell_type": "code",
   "execution_count": 16,
   "metadata": {},
   "outputs": [],
   "source": [
    "model.save('Model/8_test_prueba.h5')"
   ]
  },
  {
   "cell_type": "code",
   "execution_count": 24,
   "metadata": {},
   "outputs": [],
   "source": [
    "acc = history.history['acc']\n",
    "val_acc = history.history['val_acc']\n",
    "loss = history.history['loss']\n",
    "val_loss = history.history['val_loss']"
   ]
  },
  {
   "cell_type": "code",
   "execution_count": 25,
   "metadata": {},
   "outputs": [],
   "source": [
    "list_acc = []\n",
    "list_val_acc = []\n",
    "list_loss = []\n",
    "list_val_loss = []"
   ]
  },
  {
   "cell_type": "code",
   "execution_count": 26,
   "metadata": {},
   "outputs": [],
   "source": [
    "list_acc.append(acc)\n",
    "list_val_acc.append(val_acc)\n",
    "list_loss.append(loss)\n",
    "list_val_loss.append(val_loss)"
   ]
  },
  {
   "cell_type": "code",
   "execution_count": 16,
   "metadata": {},
   "outputs": [
    {
     "data": {
      "image/png": "[encoded data removed]",
      "text/plain": [
       "<Figure size 432x288 with 1 Axes>"
      ]
     },
     "metadata": {},
     "output_type": "display_data"
    },
    {
     "data": {
      "image/png": "[encoded data removed]",
      "text/plain": [
       "<Figure size 432x288 with 1 Axes>"
      ]
     },
     "metadata": {},
     "output_type": "display_data"
    }
   ],
   "source": [
    "import matplotlib.pyplot as plt\n",
    "\n",
    "\n",
    "epochs = range(len(acc))\n",
    "\n",
    "plt.plot(epochs, acc, 'bo', label='Training acc')\n",
    "plt.plot(epochs, val_acc, 'b', label='Validation acc')\n",
    "plt.title('Training and validation accuracy')\n",
    "plt.legend()\n",
    "\n",
    "plt.figure()\n",
    "\n",
    "plt.plot(epochs, loss, 'bo', label='Training loss')\n",
    "plt.plot(epochs, val_loss, 'b', label='Validation loss')\n",
    "plt.title('Training and validation loss')\n",
    "plt.legend()\n",
    "\n",
    "plt.show()"
   ]
  },
  {
   "cell_type": "code",
   "execution_count": null,
   "metadata": {},
   "outputs": [],
   "source": []
  }
 ],
 "metadata": {
  "kernelspec": {
   "display_name": "Python 2",
   "language": "python",
   "name": "python2"
  },
  "language_info": {
   "codemirror_mode": {
    "name": "ipython",
    "version": 2
   },
   "file_extension": ".py",
   "mimetype": "text/x-python",
   "name": "python",
   "nbconvert_exporter": "python",
   "pygments_lexer": "ipython2",
   "version": "2.7.13"
  }
 },
 "nbformat": 4,
 "nbformat_minor": 2
}
